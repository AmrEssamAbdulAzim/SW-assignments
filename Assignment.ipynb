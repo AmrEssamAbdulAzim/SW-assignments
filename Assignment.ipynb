{
 "cells": [
  {
   "cell_type": "markdown",
   "metadata": {},
   "source": [
    "use Pandas and matplot to compare the total population in Egypt, USA and Japan in the years 1960, 2000, 2005, 2010 and 2015\n",
    "\n",
    "Get your Dataset from: http://data.worldbank.org/\n",
    "- Search for what you need\n",
    "- Download the CSV file \n",
    "- Read the file and show the required data (If you have any trouble with reading the file in python, try to open it in excel and clean it from the data causing errors)"
   ]
  },
  {
   "cell_type": "code",
   "execution_count": 66,
   "metadata": {},
   "outputs": [],
   "source": [
    "import pandas as pd\n",
    "import numpy as np\n",
    "import matplotlib.pyplot as plt"
   ]
  },
  {
   "cell_type": "code",
   "execution_count": 67,
   "metadata": {},
   "outputs": [
    {
     "data": {
      "text/html": [
       "<div>\n",
       "<table border=\"1\" class=\"dataframe\">\n",
       "  <thead>\n",
       "    <tr style=\"text-align: right;\">\n",
       "      <th></th>\n",
       "      <th>1960</th>\n",
       "      <th>1961</th>\n",
       "      <th>1962</th>\n",
       "      <th>1963</th>\n",
       "      <th>1964</th>\n",
       "      <th>1965</th>\n",
       "      <th>1966</th>\n",
       "      <th>1967</th>\n",
       "      <th>1968</th>\n",
       "      <th>1969</th>\n",
       "      <th>...</th>\n",
       "      <th>2008</th>\n",
       "      <th>2009</th>\n",
       "      <th>2010</th>\n",
       "      <th>2011</th>\n",
       "      <th>2012</th>\n",
       "      <th>2013</th>\n",
       "      <th>2014</th>\n",
       "      <th>2015</th>\n",
       "      <th>2016</th>\n",
       "      <th>2017</th>\n",
       "    </tr>\n",
       "  </thead>\n",
       "  <tbody>\n",
       "    <tr>\n",
       "      <th>count</th>\n",
       "      <td>2.610000e+02</td>\n",
       "      <td>2.610000e+02</td>\n",
       "      <td>2.610000e+02</td>\n",
       "      <td>2.610000e+02</td>\n",
       "      <td>2.610000e+02</td>\n",
       "      <td>2.610000e+02</td>\n",
       "      <td>2.610000e+02</td>\n",
       "      <td>2.610000e+02</td>\n",
       "      <td>2.610000e+02</td>\n",
       "      <td>2.610000e+02</td>\n",
       "      <td>...</td>\n",
       "      <td>2.640000e+02</td>\n",
       "      <td>2.640000e+02</td>\n",
       "      <td>2.640000e+02</td>\n",
       "      <td>2.640000e+02</td>\n",
       "      <td>2.630000e+02</td>\n",
       "      <td>2.630000e+02</td>\n",
       "      <td>2.630000e+02</td>\n",
       "      <td>2.630000e+02</td>\n",
       "      <td>2.630000e+02</td>\n",
       "      <td>1</td>\n",
       "    </tr>\n",
       "    <tr>\n",
       "      <th>mean</th>\n",
       "      <td>1.177888e+08</td>\n",
       "      <td>1.193596e+08</td>\n",
       "      <td>1.214612e+08</td>\n",
       "      <td>1.240734e+08</td>\n",
       "      <td>1.267132e+08</td>\n",
       "      <td>1.294164e+08</td>\n",
       "      <td>1.322647e+08</td>\n",
       "      <td>1.351077e+08</td>\n",
       "      <td>1.380035e+08</td>\n",
       "      <td>1.410423e+08</td>\n",
       "      <td>...</td>\n",
       "      <td>2.697212e+08</td>\n",
       "      <td>2.732354e+08</td>\n",
       "      <td>2.767677e+08</td>\n",
       "      <td>2.802833e+08</td>\n",
       "      <td>2.849493e+08</td>\n",
       "      <td>2.886131e+08</td>\n",
       "      <td>2.923079e+08</td>\n",
       "      <td>2.960153e+08</td>\n",
       "      <td>2.997558e+08</td>\n",
       "      <td>2017</td>\n",
       "    </tr>\n",
       "    <tr>\n",
       "      <th>std</th>\n",
       "      <td>3.730743e+08</td>\n",
       "      <td>3.775112e+08</td>\n",
       "      <td>3.840409e+08</td>\n",
       "      <td>3.925379e+08</td>\n",
       "      <td>4.011048e+08</td>\n",
       "      <td>4.099000e+08</td>\n",
       "      <td>4.192647e+08</td>\n",
       "      <td>4.285830e+08</td>\n",
       "      <td>4.381149e+08</td>\n",
       "      <td>4.481320e+08</td>\n",
       "      <td>...</td>\n",
       "      <td>8.612330e+08</td>\n",
       "      <td>8.718087e+08</td>\n",
       "      <td>8.824346e+08</td>\n",
       "      <td>8.930761e+08</td>\n",
       "      <td>9.054616e+08</td>\n",
       "      <td>9.164191e+08</td>\n",
       "      <td>9.274489e+08</td>\n",
       "      <td>9.385042e+08</td>\n",
       "      <td>9.496440e+08</td>\n",
       "      <td>NaN</td>\n",
       "    </tr>\n",
       "    <tr>\n",
       "      <th>min</th>\n",
       "      <td>1.960000e+03</td>\n",
       "      <td>1.961000e+03</td>\n",
       "      <td>1.962000e+03</td>\n",
       "      <td>1.963000e+03</td>\n",
       "      <td>1.964000e+03</td>\n",
       "      <td>1.965000e+03</td>\n",
       "      <td>1.966000e+03</td>\n",
       "      <td>1.967000e+03</td>\n",
       "      <td>1.968000e+03</td>\n",
       "      <td>1.969000e+03</td>\n",
       "      <td>...</td>\n",
       "      <td>2.008000e+03</td>\n",
       "      <td>2.009000e+03</td>\n",
       "      <td>2.010000e+03</td>\n",
       "      <td>2.011000e+03</td>\n",
       "      <td>2.012000e+03</td>\n",
       "      <td>2.013000e+03</td>\n",
       "      <td>2.014000e+03</td>\n",
       "      <td>2.015000e+03</td>\n",
       "      <td>2.016000e+03</td>\n",
       "      <td>2017</td>\n",
       "    </tr>\n",
       "    <tr>\n",
       "      <th>25%</th>\n",
       "      <td>4.999500e+05</td>\n",
       "      <td>5.088450e+05</td>\n",
       "      <td>5.181070e+05</td>\n",
       "      <td>5.277490e+05</td>\n",
       "      <td>5.377860e+05</td>\n",
       "      <td>5.482180e+05</td>\n",
       "      <td>5.586760e+05</td>\n",
       "      <td>5.790070e+05</td>\n",
       "      <td>5.984930e+05</td>\n",
       "      <td>6.061130e+05</td>\n",
       "      <td>...</td>\n",
       "      <td>1.331660e+06</td>\n",
       "      <td>1.331291e+06</td>\n",
       "      <td>1.330631e+06</td>\n",
       "      <td>1.332951e+06</td>\n",
       "      <td>1.332142e+06</td>\n",
       "      <td>1.333122e+06</td>\n",
       "      <td>1.345445e+06</td>\n",
       "      <td>1.365974e+06</td>\n",
       "      <td>1.395066e+06</td>\n",
       "      <td>2017</td>\n",
       "    </tr>\n",
       "    <tr>\n",
       "      <th>50%</th>\n",
       "      <td>3.645600e+06</td>\n",
       "      <td>3.703600e+06</td>\n",
       "      <td>3.838097e+06</td>\n",
       "      <td>3.913395e+06</td>\n",
       "      <td>3.990857e+06</td>\n",
       "      <td>4.070590e+06</td>\n",
       "      <td>4.158124e+06</td>\n",
       "      <td>4.262005e+06</td>\n",
       "      <td>4.364000e+06</td>\n",
       "      <td>4.413590e+06</td>\n",
       "      <td>...</td>\n",
       "      <td>8.991518e+06</td>\n",
       "      <td>9.122879e+06</td>\n",
       "      <td>9.288692e+06</td>\n",
       "      <td>9.455008e+06</td>\n",
       "      <td>9.519374e+06</td>\n",
       "      <td>9.600379e+06</td>\n",
       "      <td>9.866468e+06</td>\n",
       "      <td>9.843028e+06</td>\n",
       "      <td>9.903122e+06</td>\n",
       "      <td>2017</td>\n",
       "    </tr>\n",
       "    <tr>\n",
       "      <th>75%</th>\n",
       "      <td>2.501237e+07</td>\n",
       "      <td>2.576567e+07</td>\n",
       "      <td>2.651303e+07</td>\n",
       "      <td>2.726175e+07</td>\n",
       "      <td>2.798416e+07</td>\n",
       "      <td>2.870467e+07</td>\n",
       "      <td>2.943557e+07</td>\n",
       "      <td>3.013098e+07</td>\n",
       "      <td>3.083830e+07</td>\n",
       "      <td>3.154427e+07</td>\n",
       "      <td>...</td>\n",
       "      <td>4.949921e+07</td>\n",
       "      <td>4.991447e+07</td>\n",
       "      <td>5.036178e+07</td>\n",
       "      <td>5.084711e+07</td>\n",
       "      <td>5.174651e+07</td>\n",
       "      <td>5.238008e+07</td>\n",
       "      <td>5.319080e+07</td>\n",
       "      <td>5.444597e+07</td>\n",
       "      <td>5.574053e+07</td>\n",
       "      <td>2017</td>\n",
       "    </tr>\n",
       "    <tr>\n",
       "      <th>max</th>\n",
       "      <td>3.034193e+09</td>\n",
       "      <td>3.075115e+09</td>\n",
       "      <td>3.127961e+09</td>\n",
       "      <td>3.192794e+09</td>\n",
       "      <td>3.258201e+09</td>\n",
       "      <td>3.324952e+09</td>\n",
       "      <td>3.394865e+09</td>\n",
       "      <td>3.464440e+09</td>\n",
       "      <td>3.534821e+09</td>\n",
       "      <td>3.609384e+09</td>\n",
       "      <td>...</td>\n",
       "      <td>6.763746e+09</td>\n",
       "      <td>6.847215e+09</td>\n",
       "      <td>6.930657e+09</td>\n",
       "      <td>7.012844e+09</td>\n",
       "      <td>7.097401e+09</td>\n",
       "      <td>7.182860e+09</td>\n",
       "      <td>7.268986e+09</td>\n",
       "      <td>7.355220e+09</td>\n",
       "      <td>7.442136e+09</td>\n",
       "      <td>2017</td>\n",
       "    </tr>\n",
       "  </tbody>\n",
       "</table>\n",
       "<p>8 rows × 58 columns</p>\n",
       "</div>"
      ],
      "text/plain": [
       "               1960          1961          1962          1963          1964  \\\n",
       "count  2.610000e+02  2.610000e+02  2.610000e+02  2.610000e+02  2.610000e+02   \n",
       "mean   1.177888e+08  1.193596e+08  1.214612e+08  1.240734e+08  1.267132e+08   \n",
       "std    3.730743e+08  3.775112e+08  3.840409e+08  3.925379e+08  4.011048e+08   \n",
       "min    1.960000e+03  1.961000e+03  1.962000e+03  1.963000e+03  1.964000e+03   \n",
       "25%    4.999500e+05  5.088450e+05  5.181070e+05  5.277490e+05  5.377860e+05   \n",
       "50%    3.645600e+06  3.703600e+06  3.838097e+06  3.913395e+06  3.990857e+06   \n",
       "75%    2.501237e+07  2.576567e+07  2.651303e+07  2.726175e+07  2.798416e+07   \n",
       "max    3.034193e+09  3.075115e+09  3.127961e+09  3.192794e+09  3.258201e+09   \n",
       "\n",
       "               1965          1966          1967          1968          1969  \\\n",
       "count  2.610000e+02  2.610000e+02  2.610000e+02  2.610000e+02  2.610000e+02   \n",
       "mean   1.294164e+08  1.322647e+08  1.351077e+08  1.380035e+08  1.410423e+08   \n",
       "std    4.099000e+08  4.192647e+08  4.285830e+08  4.381149e+08  4.481320e+08   \n",
       "min    1.965000e+03  1.966000e+03  1.967000e+03  1.968000e+03  1.969000e+03   \n",
       "25%    5.482180e+05  5.586760e+05  5.790070e+05  5.984930e+05  6.061130e+05   \n",
       "50%    4.070590e+06  4.158124e+06  4.262005e+06  4.364000e+06  4.413590e+06   \n",
       "75%    2.870467e+07  2.943557e+07  3.013098e+07  3.083830e+07  3.154427e+07   \n",
       "max    3.324952e+09  3.394865e+09  3.464440e+09  3.534821e+09  3.609384e+09   \n",
       "\n",
       "       ...           2008          2009          2010          2011  \\\n",
       "count  ...   2.640000e+02  2.640000e+02  2.640000e+02  2.640000e+02   \n",
       "mean   ...   2.697212e+08  2.732354e+08  2.767677e+08  2.802833e+08   \n",
       "std    ...   8.612330e+08  8.718087e+08  8.824346e+08  8.930761e+08   \n",
       "min    ...   2.008000e+03  2.009000e+03  2.010000e+03  2.011000e+03   \n",
       "25%    ...   1.331660e+06  1.331291e+06  1.330631e+06  1.332951e+06   \n",
       "50%    ...   8.991518e+06  9.122879e+06  9.288692e+06  9.455008e+06   \n",
       "75%    ...   4.949921e+07  4.991447e+07  5.036178e+07  5.084711e+07   \n",
       "max    ...   6.763746e+09  6.847215e+09  6.930657e+09  7.012844e+09   \n",
       "\n",
       "               2012          2013          2014          2015          2016  \\\n",
       "count  2.630000e+02  2.630000e+02  2.630000e+02  2.630000e+02  2.630000e+02   \n",
       "mean   2.849493e+08  2.886131e+08  2.923079e+08  2.960153e+08  2.997558e+08   \n",
       "std    9.054616e+08  9.164191e+08  9.274489e+08  9.385042e+08  9.496440e+08   \n",
       "min    2.012000e+03  2.013000e+03  2.014000e+03  2.015000e+03  2.016000e+03   \n",
       "25%    1.332142e+06  1.333122e+06  1.345445e+06  1.365974e+06  1.395066e+06   \n",
       "50%    9.519374e+06  9.600379e+06  9.866468e+06  9.843028e+06  9.903122e+06   \n",
       "75%    5.174651e+07  5.238008e+07  5.319080e+07  5.444597e+07  5.574053e+07   \n",
       "max    7.097401e+09  7.182860e+09  7.268986e+09  7.355220e+09  7.442136e+09   \n",
       "\n",
       "       2017  \n",
       "count     1  \n",
       "mean   2017  \n",
       "std     NaN  \n",
       "min    2017  \n",
       "25%    2017  \n",
       "50%    2017  \n",
       "75%    2017  \n",
       "max    2017  \n",
       "\n",
       "[8 rows x 58 columns]"
      ]
     },
     "execution_count": 67,
     "metadata": {},
     "output_type": "execute_result"
    }
   ],
   "source": [
    "pop = pd.read_csv('pop.csv', index_col =\"Data Source\", skipinitialspace=True)\n",
    "pop.head(5)\n",
    "pop.describe()"
   ]
  },
  {
   "cell_type": "code",
   "execution_count": 138,
   "metadata": {},
   "outputs": [],
   "source": [
    "jap = pop.loc[\"Japan\"] \n",
    "jap = jap[3:] / (10**6)\n",
    "\n",
    "egy = pop.loc[\"Egypt,Arab Rep.\"]\n",
    "egy = egy[3:] / (10**6)\n",
    "\n",
    "sud = pop.loc[\"Sudan\"]\n",
    "sud = sud[3:] / (10**6)\n",
    "\n"
   ]
  },
  {
   "cell_type": "code",
   "execution_count": 139,
   "metadata": {},
   "outputs": [],
   "source": [
    "d = {\"egy\":egy[3:] , \"sud\":sud[3:],\"jap\": jap[3:] } "
   ]
  },
  {
   "cell_type": "code",
   "execution_count": 140,
   "metadata": {},
   "outputs": [
    {
     "data": {
      "text/plain": [
       "<matplotlib.axes._subplots.AxesSubplot at 0x7f2c643f4828>"
      ]
     },
     "execution_count": 140,
     "metadata": {},
     "output_type": "execute_result"
    },
    {
     "data": {
      "image/png": "[encoded data removed]",
      "text/plain": [
       "<matplotlib.figure.Figure at 0x7f2c64401710>"
      ]
     },
     "metadata": {},
     "output_type": "display_data"
    }
   ],
   "source": [
    "df = pd.DataFrame(d)\n",
    "%matplotlib inline\n",
    "df.plot()"
   ]
  },
  {
   "cell_type": "code",
   "execution_count": 154,
   "metadata": {},
   "outputs": [
    {
     "name": "stdout",
     "output_type": "stream",
     "text": [
      "55\n"
     ]
    },
    {
     "data": {
      "text/plain": [
       "[<matplotlib.lines.Line2D at 0x7f2c64766ba8>]"
      ]
     },
     "execution_count": 154,
     "metadata": {},
     "output_type": "execute_result"
    },
    {
     "data": {
      "image/png": "[encoded data removed]",
      "text/plain": [
       "<matplotlib.figure.Figure at 0x7f2c64b3ad68>"
      ]
     },
     "metadata": {},
     "output_type": "display_data"
    }
   ],
   "source": [
    "df.describe()\n",
    "\n",
    "print(np.size(df[\"egy\"]))\n",
    "\n",
    "hi = top[0:-1]\n",
    "low = top[1:]\n",
    "average = low - hi\n",
    "plt.plot(average)"
   ]
  },
  {
   "cell_type": "code",
   "execution_count": 163,
   "metadata": {},
   "outputs": [],
   "source": [
    "def avg(x):\n",
    "    hi = x[0:-1]\n",
    "    low = x[1:]\n",
    "    average = low - hi\n",
    "    return average"
   ]
  },
  {
   "cell_type": "code",
   "execution_count": 167,
   "metadata": {},
   "outputs": [
    {
     "data": {
      "text/plain": [
       "55"
      ]
     },
     "execution_count": 167,
     "metadata": {},
     "output_type": "execute_result"
    }
   ],
   "source": [
    "japPlot = df[\"jap\"].reshape(np.size(df[\"jap\"]),1)\n",
    "egyPlot = df[\"egy\"].reshape(np.size(df[\"egy\"]),1)\n",
    "sudPlot = df[\"sud\"].reshape(np.size(df[\"sud\"]),1)\n",
    "np.size(sudPlot)"
   ]
  },
  {
   "cell_type": "code",
   "execution_count": 169,
   "metadata": {},
   "outputs": [],
   "source": [
    "avgegy = avg(egyPlot)\n",
    "avgjap = avg(japPlot)\n",
    "avgsud = avg(sudPlot)"
   ]
  },
  {
   "cell_type": "code",
   "execution_count": 172,
   "metadata": {},
   "outputs": [
    {
     "data": {
      "text/plain": [
       "[<matplotlib.lines.Line2D at 0x7f2c651fd9e8>]"
      ]
     },
     "execution_count": 172,
     "metadata": {},
     "output_type": "execute_result"
    },
    {
     "data": {
      "image/png": "[encoded data removed]",
      "text/plain": [
       "<matplotlib.figure.Figure at 0x7f2c64c6c0f0>"
      ]
     },
     "metadata": {},
     "output_type": "display_data"
    }
   ],
   "source": [
    "plt.plot(avgegy)\n",
    "plt.plot(avgjap)\n",
    "plt.plot(avgsud)"
   ]
  },
  {
   "cell_type": "code",
   "execution_count": null,
   "metadata": {},
   "outputs": [],
   "source": []
  }
 ],
 "metadata": {
  "kernelspec": {
   "display_name": "Python 3",
   "language": "python",
   "name": "python3"
  },
  "language_info": {
   "codemirror_mode": {
    "name": "ipython",
    "version": 3
   },
   "file_extension": ".py",
   "mimetype": "text/x-python",
   "name": "python",
   "nbconvert_exporter": "python",
   "pygments_lexer": "ipython3",
   "version": "3.5.2"
  }
 },
 "nbformat": 4,
 "nbformat_minor": 2
}
